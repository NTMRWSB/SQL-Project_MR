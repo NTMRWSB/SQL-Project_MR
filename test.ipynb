{
 "cells": [
  {
   "cell_type": "code",
   "execution_count": 1,
   "metadata": {},
   "outputs": [
    {
     "name": "stdout",
     "output_type": "stream",
     "text": [
      "Database version : 8.0.29 \n"
     ]
    }
   ],
   "source": [
    "import pymysql\n",
    "\n",
    "db = pymysql.connect(host='localhost',\n",
    "                     user='root',\n",
    "                     password='NUISTWDNMD',\n",
    "                     database='supermr_db')\n",
    "cursor = db.cursor()\n",
    "cursor.execute(\"SELECT VERSION()\")\n",
    "data = cursor.fetchone()\n",
    "print (\"Database version : %s \" % data)\n",
    "db.close()"
   ]
  },
  {
   "cell_type": "code",
   "execution_count": 2,
   "metadata": {},
   "outputs": [],
   "source": [
    "from tkinter import *\n",
    "root = Tk()\n",
    "root.title('wdnmd')\n",
    "root.geometry('240x240')\n",
    "msg1 = Message(root,text='''我的水平起始位置相对窗体 0.2，垂直起始位置为绝对位置 80 像素，我的高度是窗体高度的0.4，宽度是200像素''',relief=GROOVE)\n",
    "msg1.place(relx=0.2,y=80,relheight=0.4,width=200)\n",
    "root.mainloop()"
   ]
  }
 ],
 "metadata": {
  "interpreter": {
   "hash": "aee8b7b246df8f9039afb4144a1f6fd8d2ca17a180786b69acc140d282b71a49"
  },
  "kernelspec": {
   "display_name": "Python 3.10.0 64-bit",
   "language": "python",
   "name": "python3"
  },
  "language_info": {
   "codemirror_mode": {
    "name": "ipython",
    "version": 3
   },
   "file_extension": ".py",
   "mimetype": "text/x-python",
   "name": "python",
   "nbconvert_exporter": "python",
   "pygments_lexer": "ipython3",
   "version": "3.10.0"
  },
  "orig_nbformat": 4
 },
 "nbformat": 4,
 "nbformat_minor": 2
}
